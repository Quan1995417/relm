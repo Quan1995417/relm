{
 "cells": [
  {
   "cell_type": "code",
   "execution_count": 1,
   "metadata": {
    "collapsed": true
   },
   "outputs": [],
   "source": [
    "from sklearn.datasets import load_iris\n",
    "from sklearn.linear_model import ElasticNet, Lasso, Ridge, LinearRegression\n",
    "from sklearn.model_selection import train_test_split\n",
    "from sklearn.metrics import mean_squared_error\n",
    "import numpy as np"
   ]
  },
  {
   "cell_type": "code",
   "execution_count": 2,
   "metadata": {
    "collapsed": true
   },
   "outputs": [],
   "source": [
    "def sigmoid(x):\n",
    "    return 1 / (1 + np.exp(-x))\n",
    "\n",
    "\n",
    "def relu(x):\n",
    "    return np.maximum(0, x)\n",
    "\n",
    "\n",
    "def tanh(x):\n",
    "    return np.tanh(x)\n",
    "\n",
    "\n",
    "class Relm:\n",
    "    def __init__(self, k, reg_type, alpha=1.0, activation='tanh', **kwargs):\n",
    "        self.alpha = alpha\n",
    "        self.reg_type = reg_type.lower()\n",
    "        self.k = k\n",
    "        self.activation = activation.lower()\n",
    "\n",
    "        if self.reg_type == 'lasso':\n",
    "            self.model = Lasso(alpha=self.alpha, **kwargs)\n",
    "        elif self.reg_type == 'ridge':\n",
    "            self.model = Ridge(alpha=self.alpha, **kwargs)\n",
    "        elif self.reg_type == 'elasticnet':\n",
    "            self.model = ElasticNet(alpha=alpha, **kwargs)\n",
    "        else:\n",
    "            raise ValueError('{} regularization invalid'.format(self.reg_type))\n",
    "\n",
    "        if self.activation == 'sigmoid':\n",
    "            self.activation_func = sigmoid\n",
    "        elif self.activation == 'tanh':\n",
    "            self.activation_func = tanh\n",
    "        elif self.activation == 'relu':\n",
    "            self.activation_func = relu\n",
    "        else:\n",
    "            raise ValueError('{} activation invalid'.format(self.activation))\n",
    "\n",
    "    def fit(self, X, y):\n",
    "        G = self._project_features(X)\n",
    "        self.model.fit(G, y)    \n",
    "\n",
    "    def _project_features(self, X):\n",
    "        n_samples, n_features = X.shape\n",
    "        self.W_ = np.random.randn(n_features, self.k)\n",
    "        G = self.activation_func(np.dot(X, self.W_))\n",
    "        return G\n",
    "\n",
    "    def predict(self, X):\n",
    "        G = self._project_features(X)\n",
    "        return self.model.predict(G)"
   ]
  },
  {
   "cell_type": "code",
   "execution_count": 3,
   "metadata": {
    "collapsed": true
   },
   "outputs": [],
   "source": [
    "iris = load_iris()\n",
    "X = iris.data\n",
    "y = iris.target\n",
    "X_train, X_test, y_train, y_test = train_test_split(X, y, random_state=0)"
   ]
  },
  {
   "cell_type": "code",
   "execution_count": 4,
   "metadata": {
    "collapsed": true
   },
   "outputs": [],
   "source": [
    "models = [\n",
    "    ('Lasso', Lasso()),\n",
    "    ('Ridge', Ridge()),\n",
    "    ('Elastic', ElasticNet()),\n",
    "    ('Relm Ridge', Relm(10000, \"ridge\", activation='sigmoid', alpha=1.0))\n",
    "]\n",
    "\n",
    "results = {}\n",
    "\n",
    "for name, model in models:\n",
    "    model.fit(X_train, y_train)\n",
    "    y_pred = model.predict(X_test)\n",
    "    results[name] = mean_squared_error(y_test, y_pred)"
   ]
  },
  {
   "cell_type": "code",
   "execution_count": 5,
   "metadata": {},
   "outputs": [
    {
     "data": {
      "text/plain": [
       "{'Elastic': 0.17121007617974512,\n",
       " 'Lasso': 0.3232082593337074,\n",
       " 'Relm Ridge': 0.4574210025984755,\n",
       " 'Ridge': 0.06366212731430407}"
      ]
     },
     "execution_count": 5,
     "metadata": {},
     "output_type": "execute_result"
    }
   ],
   "source": [
    "results"
   ]
  }
 ],
 "metadata": {
  "kernelspec": {
   "display_name": "Python 3",
   "language": "python",
   "name": "python3"
  },
  "language_info": {
   "codemirror_mode": {
    "name": "ipython",
    "version": 3
   },
   "file_extension": ".py",
   "mimetype": "text/x-python",
   "name": "python",
   "nbconvert_exporter": "python",
   "pygments_lexer": "ipython3",
   "version": "3.5.2"
  }
 },
 "nbformat": 4,
 "nbformat_minor": 2
}
